{
 "cells": [
  {
   "cell_type": "code",
   "execution_count": 1,
   "metadata": {},
   "outputs": [],
   "source": [
    "%load_ext autoreload\n",
    "%autoreload 2\n",
    "\n",
    "import warnings\n",
    "warnings.filterwarnings(action='ignore', category=DeprecationWarning)\n",
    "warnings.filterwarnings(action='ignore', category=FutureWarning)\n",
    "\n",
    "\n",
    "import numpy as np\n",
    "import pandas as pd\n",
    "import matplotlib.pyplot as plt\n",
    "\n",
    "from sklearn.datasets import fetch_mldata\n",
    "\n",
    "import functions as f\n",
    "import classes as c"
   ]
  },
  {
   "cell_type": "code",
   "execution_count": 9,
   "metadata": {},
   "outputs": [
    {
     "name": "stderr",
     "output_type": "stream",
     "text": [
      "C:\\Users\\Paul\\AppData\\Local\\conda\\conda\\envs\\handson-ml\\lib\\site-packages\\sklearn\\utils\\deprecation.py:77: DeprecationWarning: Function fetch_mldata is deprecated; fetch_mldata was deprecated in version 0.20 and will be removed in version 0.22\n",
      "  warnings.warn(msg, category=DeprecationWarning)\n",
      "C:\\Users\\Paul\\AppData\\Local\\conda\\conda\\envs\\handson-ml\\lib\\site-packages\\sklearn\\utils\\deprecation.py:77: DeprecationWarning: Function mldata_filename is deprecated; mldata_filename was deprecated in version 0.20 and will be removed in version 0.22\n",
      "  warnings.warn(msg, category=DeprecationWarning)\n"
     ]
    },
    {
     "name": "stdout",
     "output_type": "stream",
     "text": [
      "i = 0\n",
      "i = 1000\n",
      "i = 2000\n",
      "i = 3000\n",
      "i = 4000\n",
      "i = 5000\n",
      "i = 6000\n",
      "i = 7000\n",
      "i = 8000\n",
      "i = 9000\n",
      "i = 10000\n",
      "i = 11000\n",
      "i = 12000\n",
      "i = 13000\n",
      "i = 14000\n",
      "i = 15000\n",
      "i = 16000\n",
      "i = 17000\n",
      "i = 18000\n",
      "i = 19000\n",
      "i = 20000\n",
      "i = 21000\n",
      "i = 22000\n",
      "i = 23000\n",
      "i = 24000\n",
      "i = 25000\n",
      "i = 26000\n",
      "i = 27000\n",
      "i = 28000\n",
      "i = 29000\n",
      "i = 30000\n",
      "i = 31000\n",
      "i = 32000\n",
      "i = 33000\n",
      "i = 34000\n",
      "i = 35000\n",
      "i = 36000\n",
      "i = 37000\n",
      "i = 38000\n",
      "i = 39000\n",
      "i = 40000\n",
      "i = 41000\n",
      "i = 42000\n",
      "i = 43000\n",
      "i = 44000\n",
      "i = 45000\n",
      "i = 46000\n",
      "i = 47000\n",
      "i = 48000\n",
      "i = 49000\n",
      "i = 50000\n",
      "i = 51000\n",
      "i = 52000\n",
      "i = 53000\n",
      "i = 54000\n",
      "i = 55000\n",
      "i = 56000\n",
      "i = 57000\n",
      "i = 58000\n",
      "i = 59000\n",
      "i = 60000\n",
      "i = 61000\n",
      "i = 62000\n",
      "i = 63000\n",
      "i = 64000\n",
      "i = 65000\n",
      "i = 66000\n",
      "i = 67000\n",
      "i = 68000\n",
      "i = 69000\n"
     ]
    }
   ],
   "source": [
    "mnist_data = fetch_mldata(\"MNIST original\")\n",
    "X, y = mnist_data[\"data\"], mnist_data[\"target\"]\n",
    "for i in range(len(X)):\n",
    "    if i%1000 == 0:\n",
    "        print(\"i =\", i)\n",
    "    for j in range(len(X[i])):\n",
    "        if X[i, j] < 120 and X[i, j] != 0:\n",
    "            X[i, j] = 0\n",
    "X_train, X_test, y_train, y_test = X[:60000], X[60000:], y[:60000], y[60000:]\n",
    "X_train_btmaps = X_train.reshape(-1, 28, 28)\n",
    "random_index = np.random.choice(len(X_train_btmaps), size=4)"
   ]
  },
  {
   "cell_type": "code",
   "execution_count": 10,
   "metadata": {},
   "outputs": [
    {
     "data": {
      "image/png": "[encoded data removed]",
      "text/plain": [
       "<Figure size 432x288 with 1 Axes>"
      ]
     },
     "metadata": {
      "needs_background": "light"
     },
     "output_type": "display_data"
    },
    {
     "data": {
      "image/png": "[encoded data removed]",
      "text/plain": [
       "<Figure size 432x288 with 1 Axes>"
      ]
     },
     "metadata": {
      "needs_background": "light"
     },
     "output_type": "display_data"
    },
    {
     "data": {
      "image/png": "[encoded data removed]",
      "text/plain": [
       "<Figure size 432x288 with 1 Axes>"
      ]
     },
     "metadata": {
      "needs_background": "light"
     },
     "output_type": "display_data"
    },
    {
     "data": {
      "image/png": "[encoded data removed]",
      "text/plain": [
       "<Figure size 432x288 with 1 Axes>"
      ]
     },
     "metadata": {
      "needs_background": "light"
     },
     "output_type": "display_data"
    }
   ],
   "source": [
    "for i, bitmap in enumerate(X_train_btmaps[random_index]):\n",
    "    plt.figure(i)\n",
    "    plt.imshow(bitmap, cmap=\"binary\", aspect=1, interpolation=\"none\")\n",
    "plt.show()"
   ]
  },
  {
   "cell_type": "code",
   "execution_count": 11,
   "metadata": {},
   "outputs": [
    {
     "data": {
      "image/png": "[encoded data removed]",
      "text/plain": [
       "<Figure size 432x288 with 1 Axes>"
      ]
     },
     "metadata": {
      "needs_background": "light"
     },
     "output_type": "display_data"
    }
   ],
   "source": [
    "for y_val in range(10):\n",
    "    plt.figure(i)\n",
    "    index = y_train == y_val\n",
    "    plt.hist(np.sum(X_train[index], axis=1))\n",
    "plt.show()"
   ]
  },
  {
   "cell_type": "code",
   "execution_count": 12,
   "metadata": {},
   "outputs": [],
   "source": [
    "valid_vectors = []\n",
    "for i in range(28):\n",
    "    for j in range(28):\n",
    "        valid_vectors.append([i, j])\n",
    "\n",
    "def get_white_group(btmap, pos_vec, group):\n",
    "    group.append(pos_vec)\n",
    "    neighbors = get_white_neighbors(btmap, pos_vec)\n",
    "    for neighbor in neighbors:\n",
    "        if neighbor not in group:\n",
    "            group.append(neighbor)\n",
    "            get_white_group(btmap, neighbor, group)\n",
    "            \n",
    "def get_white_neighbors(btmap, pos_vec):\n",
    "    neighbors = []\n",
    "    if pos_vec[0] >= 0 and pos_vec[0] < 28:\n",
    "        if pos_vec[0] != 0:\n",
    "            if btmap[pos_vec[0] - 1, pos_vec[1]] == 0:\n",
    "                neighbors.append([pos_vec[0] - 1, pos_vec[1]])\n",
    "        if pos_vec[0] != 27:\n",
    "            if btmap[pos_vec[0] + 1, pos_vec[1]] == 0:\n",
    "                neighbors.append([pos_vec[0] + 1, pos_vec[1]])\n",
    "            \n",
    "    if pos_vec[1] >= 0 and pos_vec[1] < 28:\n",
    "        if pos_vec[1] != 0:\n",
    "            if btmap[pos_vec[0], pos_vec[1] - 1] == 0:\n",
    "                neighbors.append([pos_vec[0], pos_vec[1] - 1])\n",
    "        if pos_vec[1] != 27:\n",
    "            if btmap[pos_vec[0], pos_vec[1] + 1] == 0:\n",
    "                neighbors.append([pos_vec[0], pos_vec[1] + 1])\n",
    "    return neighbors\n",
    "def get_btmap_vectors(vectors):\n",
    "    btmap = np.zeros(shape=(28, 28))\n",
    "    for v in vectors:\n",
    "        btmap[v[0], v[1]] = 1\n",
    "    return btmap\n",
    "\n",
    "def get_white_groups(btmap = X_train_btmaps[0]):\n",
    "    groups = []\n",
    "    num_of_groups = 0\n",
    "    for v in valid_vectors:\n",
    "        if v not in groups and btmap[v[0], v[1]] == 0:\n",
    "            group = []\n",
    "            get_white_group(btmap, v, group)\n",
    "            if group:\n",
    "                if len(group) > 2:\n",
    "                    num_of_groups = num_of_groups + 1\n",
    "                groups.extend(group)\n",
    "    return num_of_groups, groups"
   ]
  },
  {
   "cell_type": "code",
   "execution_count": 21,
   "metadata": {},
   "outputs": [
    {
     "data": {
      "image/png": "[encoded data removed]",
      "text/plain": [
       "<Figure size 432x288 with 1 Axes>"
      ]
     },
     "metadata": {
      "needs_background": "light"
     },
     "output_type": "display_data"
    },
    {
     "data": {
      "image/png": "[encoded data removed]",
      "text/plain": [
       "<Figure size 432x288 with 1 Axes>"
      ]
     },
     "metadata": {
      "needs_background": "light"
     },
     "output_type": "display_data"
    }
   ],
   "source": [
    "i = 40000\n",
    "num_of_groups, groups = get_white_groups(X_train_btmaps[i])\n",
    "plt.figure(1)\n",
    "plt.imshow(get_btmap_vectors(groups), cmap=\"binary\", aspect=1, interpolation=\"none\")\n",
    "plt.figure(2)\n",
    "plt.imshow(X_train_btmaps[i], cmap=\"binary\", aspect=1, interpolation=\"none\")\n",
    "plt.show()"
   ]
  },
  {
   "cell_type": "code",
   "execution_count": 22,
   "metadata": {},
   "outputs": [
    {
     "data": {
      "text/plain": [
       "2"
      ]
     },
     "execution_count": 22,
     "metadata": {},
     "output_type": "execute_result"
    }
   ],
   "source": [
    "num_of_groups"
   ]
  },
  {
   "cell_type": "code",
   "execution_count": 23,
   "metadata": {},
   "outputs": [
    {
     "data": {
      "text/plain": [
       "6.0"
      ]
     },
     "execution_count": 23,
     "metadata": {},
     "output_type": "execute_result"
    }
   ],
   "source": [
    "y[40000]"
   ]
  },
  {
   "cell_type": "code",
   "execution_count": null,
   "metadata": {},
   "outputs": [],
   "source": []
  }
 ],
 "metadata": {
  "kernelspec": {
   "display_name": "Python 3",
   "language": "python",
   "name": "python3"
  },
  "language_info": {
   "codemirror_mode": {
    "name": "ipython",
    "version": 3
   },
   "file_extension": ".py",
   "mimetype": "text/x-python",
   "name": "python",
   "nbconvert_exporter": "python",
   "pygments_lexer": "ipython3",
   "version": "3.6.8"
  }
 },
 "nbformat": 4,
 "nbformat_minor": 2
}
