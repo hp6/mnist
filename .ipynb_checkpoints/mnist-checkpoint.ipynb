{
 "cells": [
  {
   "cell_type": "code",
   "execution_count": 1,
   "metadata": {},
   "outputs": [],
   "source": [
    "%load_ext autoreload\n",
    "%autoreload 2\n",
    "\n",
    "import warnings\n",
    "warnings.filterwarnings(action='ignore', category=DeprecationWarning)\n",
    "warnings.filterwarnings(action='ignore', category=FutureWarning)\n",
    "\n",
    "\n",
    "import numpy as np\n",
    "import pandas as pd\n",
    "import matplotlib.pyplot as plt\n",
    "\n",
    "from sklearn.datasets import fetch_mldata\n",
    "\n",
    "from sklearn.preprocessing import StandardScaler\n",
    "from sklearn.decomposition import PCA\n",
    "\n",
    "from sklearn.model_selection import train_test_split\n",
    "from sklearn.model_selection import StratifiedKFold\n",
    "\n",
    "from sklearn.svm import SVC\n",
    "\n",
    "from sklearn.linear_model import SGDClassifier\n",
    "\n",
    "from sklearn.metrics import accuracy_score\n",
    "from sklearn.metrics import confusion_matrix\n",
    "from sklearn.metrics import precision_recall_fscore_support\n",
    "\n",
    "from sklearn.pipeline import Pipeline\n",
    "\n",
    "import functions as f\n",
    "import classes as c\n",
    "import mnist_classes as mc"
   ]
  },
  {
   "cell_type": "code",
   "execution_count": 2,
   "metadata": {},
   "outputs": [
    {
     "name": "stderr",
     "output_type": "stream",
     "text": [
      "C:\\Users\\Paul\\AppData\\Local\\conda\\conda\\envs\\handson-ml\\lib\\site-packages\\sklearn\\utils\\deprecation.py:77: DeprecationWarning: Function fetch_mldata is deprecated; fetch_mldata was deprecated in version 0.20 and will be removed in version 0.22\n",
      "  warnings.warn(msg, category=DeprecationWarning)\n",
      "C:\\Users\\Paul\\AppData\\Local\\conda\\conda\\envs\\handson-ml\\lib\\site-packages\\sklearn\\utils\\deprecation.py:77: DeprecationWarning: Function mldata_filename is deprecated; mldata_filename was deprecated in version 0.20 and will be removed in version 0.22\n",
      "  warnings.warn(msg, category=DeprecationWarning)\n"
     ]
    }
   ],
   "source": [
    "mnist_data = fetch_mldata(\"MNIST original\")\n",
    "X, y = mnist_data[\"data\"], mnist_data[\"target\"]\n",
    "X_train, X_test, y_train, y_test = X[:60000], X[60000:], y[:60000], y[60000:]\n",
    "perm_index = np.random.permutation(len(X_train))\n",
    "X_train = X_train[perm_index]\n",
    "y_train = y_train[perm_index]"
   ]
  },
  {
   "cell_type": "code",
   "execution_count": 3,
   "metadata": {},
   "outputs": [],
   "source": [
    "full_pip = Pipeline([\n",
    "    (\"min_value_cleaner\", mc.MinValueCleaner()),\n",
    "    (\"sum_feature\", mc.SumFtr()),\n",
    "    (\"spaces_cnt_feature\", mc.DisconnectedSpacesCntFtr()),\n",
    "    (\"std_scaler\", StandardScaler()),\n",
    "    (\"pca\", PCA(n_components=200))\n",
    "])"
   ]
  },
  {
   "cell_type": "code",
   "execution_count": null,
   "metadata": {},
   "outputs": [
    {
     "name": "stdout",
     "output_type": "stream",
     "text": [
      "index = 0\n",
      "index = 1000\n",
      "index = 2000\n",
      "index = 3000\n",
      "index = 4000\n",
      "index = 5000\n",
      "index = 6000\n",
      "index = 7000\n",
      "index = 8000\n",
      "index = 9000\n",
      "index = 10000\n",
      "index = 11000\n",
      "index = 12000\n",
      "index = 13000\n",
      "index = 14000\n",
      "index = 15000\n",
      "index = 16000\n",
      "index = 17000\n",
      "index = 18000\n",
      "index = 19000\n",
      "index = 20000\n",
      "index = 21000\n",
      "index = 22000\n",
      "index = 23000\n",
      "index = 24000\n",
      "index = 25000\n",
      "index = 26000\n",
      "index = 27000\n",
      "index = 28000\n",
      "index = 29000\n",
      "index = 30000\n",
      "index = 31000\n",
      "index = 32000\n",
      "index = 33000\n",
      "index = 34000\n",
      "index = 35000\n",
      "index = 36000\n",
      "index = 37000\n",
      "index = 38000\n",
      "index = 39000\n",
      "index = 40000\n",
      "index = 41000\n",
      "index = 42000\n",
      "index = 43000\n",
      "index = 44000\n",
      "index = 45000\n",
      "index = 46000\n",
      "index = 47000\n",
      "index = 48000\n",
      "index = 49000\n",
      "index = 50000\n",
      "index = 51000\n",
      "index = 52000\n"
     ]
    }
   ],
   "source": [
    "X_train_tr = full_pip.fit_transform(X_train)"
   ]
  },
  {
   "cell_type": "code",
   "execution_count": null,
   "metadata": {},
   "outputs": [],
   "source": [
    "for alpha in [1e-06, 1e-05, 1e-04]:\n",
    "    train_acc_sum = 0\n",
    "    test_acc_sum = 0\n",
    "    skf = StratifiedKFold(n_splits=5, random_state=4242)\n",
    "    for train_index, test_index in skf.split(X_train_tr, y_train):\n",
    "        X_train_split, X_test_split = X_train_tr[train_index], X_train_tr[test_index]\n",
    "        y_train_split, y_test_split = y_train[train_index], y_train[test_index]\n",
    "        clf = SGDClassifier(alpha=alpha, random_state=42)\n",
    "        clf.fit(X_train_split, y_train_split)\n",
    "        y_train_pr = clf.predict(X_train_split)\n",
    "        y_test_pr = clf.predict(X_test_split)\n",
    "        train_acc = accuracy_score(y_train_split, y_train_pr)\n",
    "        test_acc = accuracy_score(y_test_split, y_test_pr)\n",
    "    #     print(\"train acc =\", train_acc)\n",
    "    #     print(\"test acc =\", test_acc)\n",
    "\n",
    "        train_acc_sum = train_acc_sum + train_acc\n",
    "        test_acc_sum = test_acc_sum + test_acc\n",
    "    print(\"for alpha =\", alpha)\n",
    "    print(\"train acc mean =\", train_acc_sum/5)\n",
    "    print(\"test acc mean =\", test_acc_sum/5)"
   ]
  },
  {
   "cell_type": "code",
   "execution_count": null,
   "metadata": {},
   "outputs": [],
   "source": [
    "clf = SGDClassifier(random_state=42)\n",
    "clf.fit(X_train, y_train)"
   ]
  },
  {
   "cell_type": "code",
   "execution_count": null,
   "metadata": {},
   "outputs": [],
   "source": [
    "y_train_pr = clf.predict(X_train)\n",
    "accuracy_score(y_train, y_train_pr)\n",
    "y_test_pr = clf.predict(X_test)\n",
    "accuracy_score(y_test, y_test_pr)"
   ]
  },
  {
   "cell_type": "code",
   "execution_count": null,
   "metadata": {},
   "outputs": [],
   "source": [
    "f.confusion_matrix_df(y_train, y_train_pr)"
   ]
  },
  {
   "cell_type": "code",
   "execution_count": null,
   "metadata": {},
   "outputs": [],
   "source": [
    "f.precision_recall_fscore_support_df(y_train, y_train_pr)"
   ]
  },
  {
   "cell_type": "code",
   "execution_count": null,
   "metadata": {},
   "outputs": [],
   "source": []
  }
 ],
 "metadata": {
  "kernelspec": {
   "display_name": "Python 3",
   "language": "python",
   "name": "python3"
  },
  "language_info": {
   "codemirror_mode": {
    "name": "ipython",
    "version": 3
   },
   "file_extension": ".py",
   "mimetype": "text/x-python",
   "name": "python",
   "nbconvert_exporter": "python",
   "pygments_lexer": "ipython3",
   "version": "3.6.8"
  }
 },
 "nbformat": 4,
 "nbformat_minor": 2
}
