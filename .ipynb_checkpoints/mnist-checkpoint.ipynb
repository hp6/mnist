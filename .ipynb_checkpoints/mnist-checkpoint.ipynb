{
 "cells": [
  {
   "cell_type": "code",
   "execution_count": 1,
   "metadata": {},
   "outputs": [],
   "source": [
    "%load_ext autoreload\n",
    "%autoreload 2\n",
    "\n",
    "import warnings\n",
    "warnings.filterwarnings(action='ignore', category=DeprecationWarning)\n",
    "warnings.filterwarnings(action='ignore', category=FutureWarning)\n",
    "\n",
    "\n",
    "import numpy as np\n",
    "import pandas as pd\n",
    "import matplotlib.pyplot as plt\n",
    "\n",
    "from sklearn.datasets import fetch_mldata\n",
    "from sklearn.model_selection import train_test_split\n",
    "from sklearn.model_selection import StratifiedKFold\n",
    "\n",
    "from sklearn.svm import SVC\n",
    "\n",
    "from sklearn.linear_model import SGDClassifier\n",
    "\n",
    "from sklearn.metrics import accuracy_score\n",
    "from sklearn.metrics import confusion_matrix\n",
    "from sklearn.metrics import precision_recall_fscore_support\n",
    "\n",
    "import functions as f\n",
    "import classes as c"
   ]
  },
  {
   "cell_type": "code",
   "execution_count": 2,
   "metadata": {},
   "outputs": [
    {
     "name": "stderr",
     "output_type": "stream",
     "text": [
      "C:\\Users\\Paul\\AppData\\Local\\conda\\conda\\envs\\handson-ml\\lib\\site-packages\\sklearn\\utils\\deprecation.py:77: DeprecationWarning: Function fetch_mldata is deprecated; fetch_mldata was deprecated in version 0.20 and will be removed in version 0.22\n",
      "  warnings.warn(msg, category=DeprecationWarning)\n",
      "C:\\Users\\Paul\\AppData\\Local\\conda\\conda\\envs\\handson-ml\\lib\\site-packages\\sklearn\\utils\\deprecation.py:77: DeprecationWarning: Function mldata_filename is deprecated; mldata_filename was deprecated in version 0.20 and will be removed in version 0.22\n",
      "  warnings.warn(msg, category=DeprecationWarning)\n"
     ]
    }
   ],
   "source": [
    "mnist_data = fetch_mldata(\"MNIST original\")\n",
    "X, y = mnist_data[\"data\"], mnist_data[\"target\"]\n",
    "X_train, X_test, y_train, y_test = X[:60000], X[60000:], y[:60000], y[60000:]"
   ]
  },
  {
   "cell_type": "code",
   "execution_count": null,
   "metadata": {},
   "outputs": [
    {
     "name": "stdout",
     "output_type": "stream",
     "text": [
      "for alpha = 1e-06\n",
      "train acc mean = 0.8844000228089015\n",
      "test acc mean = 0.8844003649358878\n"
     ]
    }
   ],
   "source": [
    "for alpha in [0.000001, 0.0001, 0.01, 1, 100, 10000]:\n",
    "    train_acc_sum = 0\n",
    "    test_acc_sum = 0\n",
    "    skf = StratifiedKFold(n_splits=5, random_state=4242)\n",
    "    for train_index, test_index in skf.split(X_train, y_train):\n",
    "        X_train_split, X_test_split = X_train[train_index], X_train[test_index]\n",
    "        y_train_split, y_test_split = y_train[train_index], y_train[test_index]\n",
    "        clf = SGDClassifier(alpha=alpha, random_state=42)\n",
    "        clf.fit(X_train, y_train)\n",
    "        y_train_pr = clf.predict(X_train_split)\n",
    "        y_test_pr = clf.predict(X_test_split)\n",
    "        train_acc = accuracy_score(y_train_split, y_train_pr)\n",
    "        test_acc = accuracy_score(y_test_split, y_test_pr)\n",
    "    #     print(\"train acc =\", train_acc)\n",
    "    #     print(\"test acc =\", test_acc)\n",
    "\n",
    "        train_acc_sum = train_acc_sum + train_acc\n",
    "        test_acc_sum = test_acc_sum + test_acc\n",
    "    print(\"for alpha =\", alpha)\n",
    "    print(\"train acc mean =\", train_acc_sum/5)\n",
    "    print(\"test acc mean =\", test_acc_sum/5)"
   ]
  },
  {
   "cell_type": "code",
   "execution_count": null,
   "metadata": {},
   "outputs": [],
   "source": [
    "clf = SGDClassifier(random_state=42)\n",
    "clf.fit(X_train, y_train)"
   ]
  },
  {
   "cell_type": "code",
   "execution_count": null,
   "metadata": {},
   "outputs": [],
   "source": [
    "y_train_pr = clf.predict(X_train)\n",
    "accuracy_score(y_train, y_train_pr)"
   ]
  },
  {
   "cell_type": "code",
   "execution_count": null,
   "metadata": {},
   "outputs": [],
   "source": [
    "f.confusion_matrix_df(y_train, y_train_pr)"
   ]
  },
  {
   "cell_type": "code",
   "execution_count": null,
   "metadata": {},
   "outputs": [],
   "source": [
    "f.precision_recall_fscore_support_df(y_train, y_train_pr)"
   ]
  },
  {
   "cell_type": "code",
   "execution_count": null,
   "metadata": {},
   "outputs": [],
   "source": []
  }
 ],
 "metadata": {
  "kernelspec": {
   "display_name": "Python 3",
   "language": "python",
   "name": "python3"
  },
  "language_info": {
   "codemirror_mode": {
    "name": "ipython",
    "version": 3
   },
   "file_extension": ".py",
   "mimetype": "text/x-python",
   "name": "python",
   "nbconvert_exporter": "python",
   "pygments_lexer": "ipython3",
   "version": "3.6.8"
  }
 },
 "nbformat": 4,
 "nbformat_minor": 2
}
